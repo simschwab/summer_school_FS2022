{
 "cells": [
  {
   "cell_type": "code",
   "execution_count": 26,
   "id": "3ba6374c",
   "metadata": {},
   "outputs": [
    {
     "name": "stdout",
     "output_type": "stream",
     "text": [
      "Collecting pandas==1.4.2\n",
      "  Downloading pandas-1.4.2-cp39-cp39-win_amd64.whl (10.5 MB)\n"
     ]
    },
    {
     "name": "stderr",
     "output_type": "stream",
     "text": [
      "ERROR: Could not find a version that satisfies the requirement sklearn==1.0.2 (from versions: 0.0)\n",
      "ERROR: No matching distribution found for sklearn==1.0.2\n"
     ]
    }
   ],
   "source": [
    "!pip install -r \"C:/Users/mario/ZHAW/Master/Semester_2_FS22/Summer School/summer_school_FS2022/Credit_Risk_Modeling/flask_credit_risk_model/requirements.txt\""
   ]
  },
  {
   "cell_type": "code",
   "execution_count": 29,
   "id": "1141be3e",
   "metadata": {},
   "outputs": [
    {
     "name": "stdout",
     "output_type": "stream",
     "text": [
      "Collecting flask_wtf\n",
      "  Downloading Flask_WTF-1.0.1-py3-none-any.whl (12 kB)\n",
      "Collecting WTForms\n",
      "  Downloading WTForms-3.0.1-py3-none-any.whl (136 kB)\n",
      "Requirement already satisfied: Flask in c:\\users\\mario\\anaconda3\\envs\\summersc\\lib\\site-packages (from flask_wtf) (2.1.2)\n",
      "Requirement already satisfied: itsdangerous in c:\\users\\mario\\anaconda3\\envs\\summersc\\lib\\site-packages (from flask_wtf) (2.1.2)\n",
      "Requirement already satisfied: Werkzeug>=2.0 in c:\\users\\mario\\anaconda3\\envs\\summersc\\lib\\site-packages (from Flask->flask_wtf) (2.1.2)\n",
      "Requirement already satisfied: importlib-metadata>=3.6.0 in c:\\users\\mario\\anaconda3\\envs\\summersc\\lib\\site-packages (from Flask->flask_wtf) (4.12.0)\n",
      "Requirement already satisfied: click>=8.0 in c:\\users\\mario\\anaconda3\\envs\\summersc\\lib\\site-packages (from Flask->flask_wtf) (8.1.3)\n",
      "Requirement already satisfied: Jinja2>=3.0 in c:\\users\\mario\\anaconda3\\envs\\summersc\\lib\\site-packages (from Flask->flask_wtf) (3.1.2)\n",
      "Requirement already satisfied: colorama in c:\\users\\mario\\anaconda3\\envs\\summersc\\lib\\site-packages (from click>=8.0->Flask->flask_wtf) (0.4.5)\n",
      "Requirement already satisfied: zipp>=0.5 in c:\\users\\mario\\anaconda3\\envs\\summersc\\lib\\site-packages (from importlib-metadata>=3.6.0->Flask->flask_wtf) (3.8.0)\n",
      "Requirement already satisfied: MarkupSafe>=2.0 in c:\\users\\mario\\anaconda3\\envs\\summersc\\lib\\site-packages (from Jinja2>=3.0->Flask->flask_wtf) (2.1.1)\n",
      "Installing collected packages: WTForms, flask-wtf\n",
      "Successfully installed WTForms-3.0.1 flask-wtf-1.0.1\n"
     ]
    }
   ],
   "source": [
    "!pip install flask_wtf"
   ]
  },
  {
   "cell_type": "code",
   "execution_count": 30,
   "id": "164d563f",
   "metadata": {},
   "outputs": [],
   "source": [
    "from flask import Flask, request, jsonify, session, url_for, redirect, render_template\n",
    "import joblib\n",
    "\n",
    "from parameters import Parameters\n",
    "\n",
    "classifier_loaded = joblib.load(\"C:/Users/mario/ZHAW/Master/Semester_2_FS22/Summer School/summer_school_FS2022/Credit_Risk_Modeling/flask_credit_risk_model/saved_models/model.pkl\")\n",
    "encoder_loaded = joblib.load(\"C:/Users/mario/ZHAW/Master/Semester_2_FS22/Summer School/summer_school_FS2022/Credit_Risk_Modeling/flask_credit_risk_model/saved_models/encoder.pkl\")"
   ]
  },
  {
   "cell_type": "code",
   "execution_count": 31,
   "id": "534df46c",
   "metadata": {},
   "outputs": [],
   "source": [
    "# Prediction function\n",
    "def make_prediction(model, encoder, sample_json):\n",
    "    # parse input from request\n",
    "    Var1 = sample_json['Var1']\n",
    "    Var2 = sample_json['Var2']\n",
    "    Var3 = sample_json['Var3']\n",
    "    Var4 = sample_json['Var4']\n",
    "\n",
    "    # Make an input vector\n",
    "    borrower = [[Var1, Var2, Var3, Var4]]\n",
    "\n",
    "    # Predict\n",
    "    prediction_raw = model.predict(borrower)\n",
    "\n",
    "    # Convert Species index to Species name\n",
    "    prediction_real = encoder.inverse_transform(prediction_raw)\n",
    "\n",
    "    return prediction_real[0]"
   ]
  },
  {
   "cell_type": "code",
   "execution_count": 32,
   "id": "6d938183",
   "metadata": {},
   "outputs": [],
   "source": [
    "app = Flask(__name__)\n",
    "app.config['SECRET_KEY'] = 'mysecretkey'\n",
    "\n",
    "@app.route(\"/\", methods=['GET','POST'])\n",
    "def index():\n",
    "    form = Parameters()\n",
    "\n",
    "    if form.validate_on_submit():\n",
    "        session['Var1'] = form.Var1.data\n",
    "        session['Var2'] = form.Var2.data\n",
    "        session['Var3'] = form.Var3.data\n",
    "        session['Var4'] = form.Var4.data\n",
    "\n",
    "        return redirect(url_for(\"prediction\"))\n",
    "        \n",
    "    return render_template(\"home.html\", form=form)"
   ]
  },
  {
   "cell_type": "code",
   "execution_count": 33,
   "id": "be261fce",
   "metadata": {},
   "outputs": [],
   "source": [
    "# Read models\n",
    "classifier_loaded = joblib.load(\"C:/Users/mario/ZHAW/Master/Semester_2_FS22/Summer School/summer_school_FS2022/Credit_Risk_Modeling/flask_credit_risk_model/saved_models/model.pkl\")\n",
    "encoder_loaded = joblib.load(\"C:/Users/mario/ZHAW/Master/Semester_2_FS22/Summer School/summer_school_FS2022/Credit_Risk_Modeling/flask_credit_risk_model/saved_models/encoder.pkl\")"
   ]
  },
  {
   "cell_type": "code",
   "execution_count": null,
   "id": "dc05ff5e",
   "metadata": {},
   "outputs": [
    {
     "name": "stdout",
     "output_type": "stream",
     "text": [
      " * Serving Flask app '__main__' (lazy loading)\n",
      " * Environment: production\n",
      "\u001b[31m   WARNING: This is a development server. Do not use it in a production deployment.\u001b[0m\n",
      "\u001b[2m   Use a production WSGI server instead.\u001b[0m\n",
      " * Debug mode: off\n"
     ]
    },
    {
     "name": "stderr",
     "output_type": "stream",
     "text": [
      " * Running on all addresses (0.0.0.0)\n",
      "   WARNING: This is a development server. Do not use it in a production deployment.\n",
      " * Running on http://127.0.0.1:8080\n",
      " * Running on http://10.8.23.4:8080 (Press CTRL+C to quit)\n",
      "127.0.0.1 - - [07/Jul/2022 13:59:43] \"GET / HTTP/1.1\" 200 -\n",
      "127.0.0.1 - - [07/Jul/2022 13:59:43] \"GET /static/input.png HTTP/1.1\" 200 -\n",
      "127.0.0.1 - - [07/Jul/2022 13:59:44] \"GET /favicon.ico HTTP/1.1\" 404 -\n"
     ]
    }
   ],
   "source": [
    "@app.route('/prediction')\n",
    "def prediction():\n",
    "    content = {'Var1': float(session['Var1']), 'Var2': float(session['Var2']),\n",
    "               'Var3': float(session['Var3']), 'Var4': float(session['Var4'])}\n",
    "\n",
    "    results = make_prediction(classifier_loaded, encoder_loaded, content)\n",
    "\n",
    "    return render_template('prediction.html', results=results)\n",
    "\n",
    "if __name__ == '__main__':\n",
    "    app.run(host='0.0.0.0', port=8080)"
   ]
  },
  {
   "cell_type": "code",
   "execution_count": null,
   "id": "28fa3005",
   "metadata": {},
   "outputs": [],
   "source": []
  }
 ],
 "metadata": {
  "kernelspec": {
   "display_name": "Python 3 (ipykernel)",
   "language": "python",
   "name": "python3"
  },
  "language_info": {
   "codemirror_mode": {
    "name": "ipython",
    "version": 3
   },
   "file_extension": ".py",
   "mimetype": "text/x-python",
   "name": "python",
   "nbconvert_exporter": "python",
   "pygments_lexer": "ipython3",
   "version": "3.9.12"
  }
 },
 "nbformat": 4,
 "nbformat_minor": 5
}
